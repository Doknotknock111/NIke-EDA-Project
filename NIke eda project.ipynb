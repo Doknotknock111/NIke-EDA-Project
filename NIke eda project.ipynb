{
 "cells": [
  {
   "cell_type": "markdown",
   "id": "91942539",
   "metadata": {},
   "source": [
    "### Debasish Chandra Dey\n",
    "### Reg. no - 12114879\n",
    "### K21UT "
   ]
  },
  {
   "cell_type": "markdown",
   "id": "a450dbf5",
   "metadata": {},
   "source": [
    "# Introduction"
   ]
  },
  {
   "cell_type": "markdown",
   "id": "48740aed",
   "metadata": {},
   "source": [
    "### The Nike dataset includes information about the following: The products that Nike sells, such as shoes. The customers who buy Nike products, such as their rating and reviews. The supply chain that Nike uses to manufacture and distribute its products. \n",
    "### The objective is to use this information to inform future product design and marketing strategies for Nike and other shoe brands. Furthermore, consumers and shoe enthusiasts can benefit from this dataset to make more informed decisions about purchasing Nike shoes based on the experiences of other customers.\n",
    "### Additionally, the dataset contains text data on customer reviews, allowing for a detailed analysis of consumer opinions and feedback.                                                                                                                       By analysing this dataset, researchers and analysts can gain insight into which Nike shoes are most popular among consumers, as well as the features and characteristics that customers value most in a shoe.\n"
   ]
  },
  {
   "cell_type": "markdown",
   "id": "a72dd41c",
   "metadata": {},
   "source": []
  },
  {
   "cell_type": "markdown",
   "id": "aa4bb00e",
   "metadata": {},
   "source": [
    "# Domain Knowledge"
   ]
  },
  {
   "cell_type": "markdown",
   "id": "3df786dd",
   "metadata": {},
   "source": [
    "### Nike is one of the largest and most recognizable athletic shoe brands in the world, known for their high-quality products and innovative designs. To gain insight into how Nike's shoes are received by consumers, a dataset has been compiled that contains information on Nike shoe sales, including customer reviews and ratings. \n",
    "### The dataset includes information on Nike shoes sold across a variety of platforms, including Nike's own website, Amazon, and other retailers. It contains data on the shoe model, price, and the number of reviews and ratings.\n",
    "### Additionally, the dataset contains text data on customer reviews, allowing for a detailed analysis of consumer opinions and feedback. By analysing this dataset, researchers and analysts can gain insight into which Nike shoes are most popular among consumers, as well as the features and characteristics that customers value most in a shoe. This information could be used to inform future product design and marketing strategies for Nike and other shoe brands. \n",
    "### Furthermore, consumers and shoe enthusiasts can benefit from this dataset to make more informed decisions about purchasing Nike shoes based on the experiences of other customers. The dataset may also be used by retailers to optimize their inventory and marketing strategies based on popular models, sizes, and colors. Overall, this dataset has the potential to provide valuable insights for both the industry and consumers, shedding light on the factors that contribute to the success of Nike's shoes. The Nike dataset includes information about the following: The products that Nike sells, such as shoes. The customers who buy Nike products, such as their demographics, interests, and purchase history. The supply chain that Nike uses to manufacture and distribute its products. The competitive landscape in the athletic footwear and apparel industry. The regulatory environment that Nike operates in. This domain knowledge can be used to understand Nike's business, its customers. It can also be used to develop marketing campaigns, improve the supply chain, and comply with regulations. \n"
   ]
  },
  {
   "cell_type": "code",
   "execution_count": null,
   "id": "d0a82659",
   "metadata": {},
   "outputs": [],
   "source": []
  },
  {
   "cell_type": "markdown",
   "id": "938d481f",
   "metadata": {},
   "source": [
    "# Reason for choosing this dataset"
   ]
  },
  {
   "cell_type": "markdown",
   "id": "2498f413",
   "metadata": {},
   "source": [
    "### There are several compelling reasons for choosing this Nike shoe sales dataset: Brand Recognition: Nike is a globally recognized brand with a strong reputation for athletic shoes. Analyzing data related to Nike's products can provide insight s into the performance and reception of a well-known brand. Consumer Insights: The dataset includes customer reviews and ratings, which can offer valuable insights into consumer preferences, satisfaction levels, and o pinions about specific shoe models and features. This information is crucial for understanding customer sentiment. \n",
    "### Market Research: Researchers and analysts can use this dataset to conduct ma rket research in the athletic shoe industry. It allows for the assessment of mark et trends, pricing strategies, and the popularity of different Nike shoe models. \n",
    "### Product Development: Nike and other shoe brands can leverage this data to inf orm their product development and design decisions. Understanding what customers appreciate in their shoes can help companies create better products. \n",
    "### Marketing Strategies: Marketers can use this dataset to identify which Nike shoe models are most popular and why. This information can guide marketing strategies and promotional efforts. Retail Optimization: Retailers selling Nike products can optimize their inventory and pricing strategies based on the popularity of certain shoe models, sizes, and color ways. This can lead to improved sales and profitability.\n",
    "### Consumer Empowerment: Consumers and shoe enthusiasts can benefit from this dataset by making more informed purchasing decisions. They can read reviews and ratings from other customers to choose the right Nike shoe for their needs. \n",
    "### Industry Insights: The dataset can shed light on the factors contributing to the success of Nike's shoes, which can be valuable information for the broader foot wear industry. \n",
    "### In summary, this dataset offers a wealth of information that is valuable for various stakeholders, including Nike itself, researchers, marketers, retailers, and consumers. \n",
    "### It provides a comprehensive view of the performance and reception of Nike shoes in the market, making it an excellent choice for analysis and rese arch purposes.\n"
   ]
  },
  {
   "cell_type": "code",
   "execution_count": null,
   "id": "62ae5c7c",
   "metadata": {},
   "outputs": [],
   "source": []
  },
  {
   "cell_type": "markdown",
   "id": "983c9d7d",
   "metadata": {},
   "source": [
    "# Steps of EDA :"
   ]
  },
  {
   "cell_type": "markdown",
   "id": "80faaa64",
   "metadata": {},
   "source": [
    "### 1) Collecting the public dataset from online source (Kaggle) in csv.   \n",
    "### 2) Importing the required libraries for the project.                      \n",
    "### 3) Reading the csv in Jupyter notebook using [ nike_data = pd.read_c sv(\"nike_shoes_sales.csv\") ]  \n",
    "### 4) Analysing the dataset using head() , know the shape i.e. rows and column using .shape , .info() and .describe() to know about the column values and statistics.  \n",
    "### 5) EDA process starts from knowing all the null values and finding wa ys to eradicate it from the dataset as it hampers in calculating the values.           \n",
    "### 6) Outliers (data point that differs significantly from other observations) are calculated for some particular columns, in my case it is for sales price. I came to know to know that the lower quartile is -1708 and upper quartile is 21500. Values beyond and after this are considered as an out liers and if we consider this values in our calculations then the it will hamper in calculating the mean and median in our dataset.    \n",
    "### 7) Now it’s time for visualization. Reading numerical values in a repor t feels boring after some point of time so to tackle this issue and to make it interesting, Visualization is used as it not only makes it interesting but conveys the analytics of data too. Visualization techniques used here are: Line plot, Scatter plot, Histogram.        \n",
    "### 8) Made a distribution for sales price and a Hypothesis test for sales of shoes for low and high ratings."
   ]
  },
  {
   "cell_type": "code",
   "execution_count": null,
   "id": "1efcb1aa",
   "metadata": {},
   "outputs": [],
   "source": []
  },
  {
   "cell_type": "markdown",
   "id": "ac7d6233",
   "metadata": {},
   "source": [
    "# Libraries used and approaches "
   ]
  },
  {
   "cell_type": "markdown",
   "id": "95598e5b",
   "metadata": {},
   "source": [
    "###  importing all the packages"
   ]
  },
  {
   "cell_type": "code",
   "execution_count": 9,
   "id": "bf70e6ea",
   "metadata": {},
   "outputs": [],
   "source": [
    "import numpy as np \n",
    "import pandas as pd \n",
    "import matplotlib.pyplot as plt\n",
    "import seaborn as sns"
   ]
  },
  {
   "cell_type": "markdown",
   "id": "6dde72f1",
   "metadata": {},
   "source": [
    "### The libraries used in this project are: Numpy, Pandas, Matplotlib, Seaborn and Scify.\n",
    "### Numpy and pandas are used for calculating numerical data and its analysis through the functions that are provided by these libraries. \n",
    "### Scify library is used for scientific calculations. Here in this dataset it is used for distribution and hypothesis testing.\n",
    "### Matplotlib and Seaborn are used for visualization that makes it appealing to the eyes of the reader. Matplotlib is a low level graph plotting library in python that serves as a visualization utility.\n",
    "### Seaborn library is a widely popular data visualization library that is commonly used for data science and machine learning tasks. \n",
    "### Some of functions of Numpy used are: To calculate mean, median and to get insights about the data functions used are: mean(), median(), shape, percentile() which was used in the process for calculating outliers. \n",
    "### Some of the functions of Scify used are : norm.pdf() , ttest_ind().\n",
    "### Some of functions of Pandas used are: Pandas is used here to read the dataframe or dataset and to get the knowledge of various column and also used for data cleaning using pd.read_csv(), pd.info, pd. dercribe, drop(), .fill() , isna(), isnul(),head(),tail() \n",
    "### Some of functions of Matplotlib used are: Some of the plotting techniques used are plotting, scatter plot, histogram, subplot, figure(figsize), xlabel ,ylabel , title. \n",
    "### Some of the plotting of Seaborn used are : Boxplot() ,scatterplot(). \n"
   ]
  },
  {
   "cell_type": "markdown",
   "id": "a32efb49",
   "metadata": {},
   "source": []
  },
  {
   "cell_type": "code",
   "execution_count": 10,
   "id": "f9de86dc",
   "metadata": {},
   "outputs": [],
   "source": [
    "nike_data = pd.read_csv(\"nike_shoes_sales.csv\") # reading the content of the file and storing it in nike_data"
   ]
  },
  {
   "cell_type": "code",
   "execution_count": 11,
   "id": "bb258861",
   "metadata": {
    "scrolled": false
   },
   "outputs": [
    {
     "data": {
      "text/html": [
       "<div>\n",
       "<style scoped>\n",
       "    .dataframe tbody tr th:only-of-type {\n",
       "        vertical-align: middle;\n",
       "    }\n",
       "\n",
       "    .dataframe tbody tr th {\n",
       "        vertical-align: top;\n",
       "    }\n",
       "\n",
       "    .dataframe thead th {\n",
       "        text-align: right;\n",
       "    }\n",
       "</style>\n",
       "<table border=\"1\" class=\"dataframe\">\n",
       "  <thead>\n",
       "    <tr style=\"text-align: right;\">\n",
       "      <th></th>\n",
       "      <th>product_name</th>\n",
       "      <th>product_id</th>\n",
       "      <th>listing_price</th>\n",
       "      <th>sale_price</th>\n",
       "      <th>discount</th>\n",
       "      <th>brand</th>\n",
       "      <th>description</th>\n",
       "      <th>rating</th>\n",
       "      <th>reviews</th>\n",
       "      <th>images</th>\n",
       "    </tr>\n",
       "  </thead>\n",
       "  <tbody>\n",
       "    <tr>\n",
       "      <th>0</th>\n",
       "      <td>Nike Air Force 1 '07 Essential</td>\n",
       "      <td>CJ1646-600</td>\n",
       "      <td>0</td>\n",
       "      <td>7495</td>\n",
       "      <td>0</td>\n",
       "      <td>Nike</td>\n",
       "      <td>Let your shoe game shimmer in the Nike Air For...</td>\n",
       "      <td>0.0</td>\n",
       "      <td>0</td>\n",
       "      <td>[\"https://static.nike.com/a/images/t_PDP_1728_...</td>\n",
       "    </tr>\n",
       "    <tr>\n",
       "      <th>1</th>\n",
       "      <td>Nike Air Force 1 '07</td>\n",
       "      <td>CT4328-101</td>\n",
       "      <td>0</td>\n",
       "      <td>7495</td>\n",
       "      <td>0</td>\n",
       "      <td>Nike</td>\n",
       "      <td>The legend lives on in the Nike Air Force 1 '0...</td>\n",
       "      <td>0.0</td>\n",
       "      <td>0</td>\n",
       "      <td>[\"https://static.nike.com/a/images/t_PDP_1728_...</td>\n",
       "    </tr>\n",
       "    <tr>\n",
       "      <th>2</th>\n",
       "      <td>Nike Air Force 1 Sage Low LX</td>\n",
       "      <td>CI3482-200</td>\n",
       "      <td>0</td>\n",
       "      <td>9995</td>\n",
       "      <td>0</td>\n",
       "      <td>Nike</td>\n",
       "      <td>Taking both height and craft to new levels, th...</td>\n",
       "      <td>0.0</td>\n",
       "      <td>0</td>\n",
       "      <td>[\"https://static.nike.com/a/images/t_PDP_1728_...</td>\n",
       "    </tr>\n",
       "    <tr>\n",
       "      <th>3</th>\n",
       "      <td>Nike Air Max Dia SE</td>\n",
       "      <td>CD0479-200</td>\n",
       "      <td>0</td>\n",
       "      <td>9995</td>\n",
       "      <td>0</td>\n",
       "      <td>Nike</td>\n",
       "      <td>Designed for a woman's foot, the Nike Air Max ...</td>\n",
       "      <td>0.0</td>\n",
       "      <td>0</td>\n",
       "      <td>[\"https://static.nike.com/a/images/t_PDP_1728_...</td>\n",
       "    </tr>\n",
       "    <tr>\n",
       "      <th>4</th>\n",
       "      <td>Nike Air Max Verona</td>\n",
       "      <td>CZ6156-101</td>\n",
       "      <td>0</td>\n",
       "      <td>9995</td>\n",
       "      <td>0</td>\n",
       "      <td>Nike</td>\n",
       "      <td>Pass on the good vibes in the Nike Air Max Ver...</td>\n",
       "      <td>0.0</td>\n",
       "      <td>0</td>\n",
       "      <td>[\"https://static.nike.com/a/images/t_PDP_1728_...</td>\n",
       "    </tr>\n",
       "  </tbody>\n",
       "</table>\n",
       "</div>"
      ],
      "text/plain": [
       "                     product_name  product_id  listing_price  sale_price  \\\n",
       "0  Nike Air Force 1 '07 Essential  CJ1646-600              0        7495   \n",
       "1            Nike Air Force 1 '07  CT4328-101              0        7495   \n",
       "2    Nike Air Force 1 Sage Low LX  CI3482-200              0        9995   \n",
       "3             Nike Air Max Dia SE  CD0479-200              0        9995   \n",
       "4             Nike Air Max Verona  CZ6156-101              0        9995   \n",
       "\n",
       "   discount brand                                        description  rating  \\\n",
       "0         0  Nike  Let your shoe game shimmer in the Nike Air For...     0.0   \n",
       "1         0  Nike  The legend lives on in the Nike Air Force 1 '0...     0.0   \n",
       "2         0  Nike  Taking both height and craft to new levels, th...     0.0   \n",
       "3         0  Nike  Designed for a woman's foot, the Nike Air Max ...     0.0   \n",
       "4         0  Nike  Pass on the good vibes in the Nike Air Max Ver...     0.0   \n",
       "\n",
       "   reviews                                             images  \n",
       "0        0  [\"https://static.nike.com/a/images/t_PDP_1728_...  \n",
       "1        0  [\"https://static.nike.com/a/images/t_PDP_1728_...  \n",
       "2        0  [\"https://static.nike.com/a/images/t_PDP_1728_...  \n",
       "3        0  [\"https://static.nike.com/a/images/t_PDP_1728_...  \n",
       "4        0  [\"https://static.nike.com/a/images/t_PDP_1728_...  "
      ]
     },
     "execution_count": 11,
     "metadata": {},
     "output_type": "execute_result"
    }
   ],
   "source": [
    "nike_data.head()  # by default it displays 5 rows"
   ]
  },
  {
   "cell_type": "markdown",
   "id": "9e95d731",
   "metadata": {},
   "source": [
    "# Data Description "
   ]
  },
  {
   "cell_type": "markdown",
   "id": "67ffa36b",
   "metadata": {},
   "source": [
    "### In total it contains 10 columns and the shape is (643, 10). \n",
    "### It contains column : product_name , product_id , listing_price , sale_price , discount , brand , description , rating , reviews , images. \n",
    "### Product name contains the names of product of nike shows. \n",
    "### Product id contains unique id for each product name. \n",
    "### Listing price refers to the price at which a product or property is advertised for sale before any discounts or negotiations are made. \n",
    "### Sale price is the final price at which the product is been sold. \n",
    "### Discount refers to the reduction in the usual price of a product. \n",
    "### Brand refers to the name under which the product is marketed and sold. \n",
    "### Description provides an overview of an product , it’s color , texture , size and etc. It provided by the company for the consumer. \n",
    "### Rating are given by the consumer after testing it out in real world and it helps the new consumer to decide whether one to purchase it or is it ticks the require ment. \n",
    "### Reviews  just like ratings which are numeric in nature. Reviews are basically written by the consumer after purchasing it and using it for a day or two. It might contain pros and cons. \n",
    "### Images in here contains the links to view the product photos.\n"
   ]
  },
  {
   "cell_type": "markdown",
   "id": "b738677c",
   "metadata": {},
   "source": []
  },
  {
   "cell_type": "markdown",
   "id": "50d417ff",
   "metadata": {},
   "source": [
    "# Data Cleaning"
   ]
  },
  {
   "cell_type": "code",
   "execution_count": 4,
   "id": "2a84a813",
   "metadata": {
    "scrolled": true
   },
   "outputs": [
    {
     "data": {
      "text/plain": [
       "(643, 10)"
      ]
     },
     "execution_count": 4,
     "metadata": {},
     "output_type": "execute_result"
    }
   ],
   "source": [
    "nike_data.shape # displays the no. of rows and columns in the dataset"
   ]
  },
  {
   "cell_type": "code",
   "execution_count": 5,
   "id": "6e748a64",
   "metadata": {},
   "outputs": [
    {
     "name": "stdout",
     "output_type": "stream",
     "text": [
      "<class 'pandas.core.frame.DataFrame'>\n",
      "RangeIndex: 643 entries, 0 to 642\n",
      "Data columns (total 10 columns):\n",
      " #   Column         Non-Null Count  Dtype  \n",
      "---  ------         --------------  -----  \n",
      " 0   product_name   643 non-null    object \n",
      " 1   product_id     643 non-null    object \n",
      " 2   listing_price  643 non-null    int64  \n",
      " 3   sale_price     643 non-null    int64  \n",
      " 4   discount       643 non-null    int64  \n",
      " 5   brand          643 non-null    object \n",
      " 6   description    640 non-null    object \n",
      " 7   rating         643 non-null    float64\n",
      " 8   reviews        643 non-null    int64  \n",
      " 9   images         572 non-null    object \n",
      "dtypes: float64(1), int64(4), object(5)\n",
      "memory usage: 50.4+ KB\n"
     ]
    }
   ],
   "source": [
    "nike_data.info() # prints about column type "
   ]
  },
  {
   "cell_type": "code",
   "execution_count": 6,
   "id": "0d2f272d",
   "metadata": {},
   "outputs": [
    {
     "data": {
      "text/plain": [
       "product_name      0\n",
       "product_id        0\n",
       "listing_price     0\n",
       "sale_price        0\n",
       "discount          0\n",
       "brand             0\n",
       "description       3\n",
       "rating            0\n",
       "reviews           0\n",
       "images           71\n",
       "dtype: int64"
      ]
     },
     "execution_count": 6,
     "metadata": {},
     "output_type": "execute_result"
    }
   ],
   "source": [
    "nike_data.isnull().sum() #calculates the sum of null values in a column"
   ]
  },
  {
   "cell_type": "code",
   "execution_count": 7,
   "id": "dc09b9d4",
   "metadata": {
    "scrolled": false
   },
   "outputs": [
    {
     "data": {
      "text/html": [
       "<div>\n",
       "<style scoped>\n",
       "    .dataframe tbody tr th:only-of-type {\n",
       "        vertical-align: middle;\n",
       "    }\n",
       "\n",
       "    .dataframe tbody tr th {\n",
       "        vertical-align: top;\n",
       "    }\n",
       "\n",
       "    .dataframe thead th {\n",
       "        text-align: right;\n",
       "    }\n",
       "</style>\n",
       "<table border=\"1\" class=\"dataframe\">\n",
       "  <thead>\n",
       "    <tr style=\"text-align: right;\">\n",
       "      <th></th>\n",
       "      <th>listing_price</th>\n",
       "      <th>sale_price</th>\n",
       "      <th>discount</th>\n",
       "      <th>rating</th>\n",
       "      <th>reviews</th>\n",
       "    </tr>\n",
       "  </thead>\n",
       "  <tbody>\n",
       "    <tr>\n",
       "      <th>count</th>\n",
       "      <td>643.000000</td>\n",
       "      <td>643.000000</td>\n",
       "      <td>643.0</td>\n",
       "      <td>643.000000</td>\n",
       "      <td>643.000000</td>\n",
       "    </tr>\n",
       "    <tr>\n",
       "      <th>mean</th>\n",
       "      <td>3875.762053</td>\n",
       "      <td>10213.676516</td>\n",
       "      <td>0.0</td>\n",
       "      <td>2.734837</td>\n",
       "      <td>7.181960</td>\n",
       "    </tr>\n",
       "    <tr>\n",
       "      <th>std</th>\n",
       "      <td>5889.947172</td>\n",
       "      <td>4513.289512</td>\n",
       "      <td>0.0</td>\n",
       "      <td>2.137756</td>\n",
       "      <td>15.968315</td>\n",
       "    </tr>\n",
       "    <tr>\n",
       "      <th>min</th>\n",
       "      <td>0.000000</td>\n",
       "      <td>1595.000000</td>\n",
       "      <td>0.0</td>\n",
       "      <td>0.000000</td>\n",
       "      <td>0.000000</td>\n",
       "    </tr>\n",
       "    <tr>\n",
       "      <th>25%</th>\n",
       "      <td>0.000000</td>\n",
       "      <td>6995.000000</td>\n",
       "      <td>0.0</td>\n",
       "      <td>0.000000</td>\n",
       "      <td>0.000000</td>\n",
       "    </tr>\n",
       "    <tr>\n",
       "      <th>50%</th>\n",
       "      <td>0.000000</td>\n",
       "      <td>9597.000000</td>\n",
       "      <td>0.0</td>\n",
       "      <td>3.800000</td>\n",
       "      <td>1.000000</td>\n",
       "    </tr>\n",
       "    <tr>\n",
       "      <th>75%</th>\n",
       "      <td>8495.000000</td>\n",
       "      <td>12797.000000</td>\n",
       "      <td>0.0</td>\n",
       "      <td>4.600000</td>\n",
       "      <td>6.000000</td>\n",
       "    </tr>\n",
       "    <tr>\n",
       "      <th>max</th>\n",
       "      <td>19995.000000</td>\n",
       "      <td>36500.000000</td>\n",
       "      <td>0.0</td>\n",
       "      <td>5.000000</td>\n",
       "      <td>223.000000</td>\n",
       "    </tr>\n",
       "  </tbody>\n",
       "</table>\n",
       "</div>"
      ],
      "text/plain": [
       "       listing_price    sale_price  discount      rating     reviews\n",
       "count     643.000000    643.000000     643.0  643.000000  643.000000\n",
       "mean     3875.762053  10213.676516       0.0    2.734837    7.181960\n",
       "std      5889.947172   4513.289512       0.0    2.137756   15.968315\n",
       "min         0.000000   1595.000000       0.0    0.000000    0.000000\n",
       "25%         0.000000   6995.000000       0.0    0.000000    0.000000\n",
       "50%         0.000000   9597.000000       0.0    3.800000    1.000000\n",
       "75%      8495.000000  12797.000000       0.0    4.600000    6.000000\n",
       "max     19995.000000  36500.000000       0.0    5.000000  223.000000"
      ]
     },
     "execution_count": 7,
     "metadata": {},
     "output_type": "execute_result"
    }
   ],
   "source": [
    "nike_data.describe()  # It provides various details about the column like mean, median, deviation and etc."
   ]
  },
  {
   "cell_type": "code",
   "execution_count": 8,
   "id": "ed956d48",
   "metadata": {
    "scrolled": false
   },
   "outputs": [
    {
     "data": {
      "text/plain": [
       "product_name      0\n",
       "product_id        0\n",
       "listing_price     0\n",
       "sale_price        0\n",
       "discount          0\n",
       "brand             0\n",
       "description       3\n",
       "rating            0\n",
       "reviews           0\n",
       "images           71\n",
       "dtype: int64"
      ]
     },
     "execution_count": 8,
     "metadata": {},
     "output_type": "execute_result"
    }
   ],
   "source": [
    "nike_data.isna().sum() # gives the sum of columns that contains NA values"
   ]
  },
  {
   "cell_type": "markdown",
   "id": "92229396",
   "metadata": {},
   "source": [
    "###  Removing the image column "
   ]
  },
  {
   "cell_type": "code",
   "execution_count": 9,
   "id": "229d689c",
   "metadata": {},
   "outputs": [],
   "source": [
    "nike_data = nike_data.drop('images' , axis =1)"
   ]
  },
  {
   "cell_type": "code",
   "execution_count": 10,
   "id": "5bcb91fd",
   "metadata": {},
   "outputs": [
    {
     "data": {
      "text/html": [
       "<div>\n",
       "<style scoped>\n",
       "    .dataframe tbody tr th:only-of-type {\n",
       "        vertical-align: middle;\n",
       "    }\n",
       "\n",
       "    .dataframe tbody tr th {\n",
       "        vertical-align: top;\n",
       "    }\n",
       "\n",
       "    .dataframe thead th {\n",
       "        text-align: right;\n",
       "    }\n",
       "</style>\n",
       "<table border=\"1\" class=\"dataframe\">\n",
       "  <thead>\n",
       "    <tr style=\"text-align: right;\">\n",
       "      <th></th>\n",
       "      <th>product_name</th>\n",
       "      <th>product_id</th>\n",
       "      <th>listing_price</th>\n",
       "      <th>sale_price</th>\n",
       "      <th>discount</th>\n",
       "      <th>brand</th>\n",
       "      <th>description</th>\n",
       "      <th>rating</th>\n",
       "      <th>reviews</th>\n",
       "    </tr>\n",
       "  </thead>\n",
       "  <tbody>\n",
       "    <tr>\n",
       "      <th>0</th>\n",
       "      <td>Nike Air Force 1 '07 Essential</td>\n",
       "      <td>CJ1646-600</td>\n",
       "      <td>0</td>\n",
       "      <td>7495</td>\n",
       "      <td>0</td>\n",
       "      <td>Nike</td>\n",
       "      <td>Let your shoe game shimmer in the Nike Air For...</td>\n",
       "      <td>0.0</td>\n",
       "      <td>0</td>\n",
       "    </tr>\n",
       "  </tbody>\n",
       "</table>\n",
       "</div>"
      ],
      "text/plain": [
       "                     product_name  product_id  listing_price  sale_price  \\\n",
       "0  Nike Air Force 1 '07 Essential  CJ1646-600              0        7495   \n",
       "\n",
       "   discount brand                                        description  rating  \\\n",
       "0         0  Nike  Let your shoe game shimmer in the Nike Air For...     0.0   \n",
       "\n",
       "   reviews  \n",
       "0        0  "
      ]
     },
     "execution_count": 10,
     "metadata": {},
     "output_type": "execute_result"
    }
   ],
   "source": [
    "nike_data.head(1)"
   ]
  },
  {
   "cell_type": "markdown",
   "id": "a973f860",
   "metadata": {},
   "source": [
    "#### Image column has been removed from the dataset as it contained links."
   ]
  },
  {
   "cell_type": "markdown",
   "id": "ef052edb",
   "metadata": {},
   "source": []
  },
  {
   "cell_type": "markdown",
   "id": "3b1211ae",
   "metadata": {},
   "source": [
    "# Initial visualization"
   ]
  },
  {
   "cell_type": "markdown",
   "id": "362e77e1",
   "metadata": {},
   "source": [
    "## Scatter plot for listing price and sales price"
   ]
  },
  {
   "cell_type": "code",
   "execution_count": 11,
   "id": "850c5295",
   "metadata": {
    "scrolled": true
   },
   "outputs": [
    {
     "data": {
      "image/png": "[encoded data removed]",
      "text/plain": [
       "<Figure size 500x300 with 1 Axes>"
      ]
     },
     "metadata": {},
     "output_type": "display_data"
    }
   ],
   "source": [
    "\n",
    "plt.figure(figsize=(5,3))\n",
    "x = nike_data.sale_price\n",
    "y = nike_data.listing_price\n",
    "plt.title(\"Scatter plot of sales price and listing price\")\n",
    "plt.xlabel(\"Sales price\")\n",
    "plt.ylabel(\"Listing price\")\n",
    "plt.scatter(x,y )\n",
    "plt.show()"
   ]
  },
  {
   "cell_type": "markdown",
   "id": "66fdf8a2",
   "metadata": {},
   "source": [
    "### From the above graph, the one trend we can observe that it shows a postive trends towards listing and sale price. But it can be seen that listing price having '0' is creating a confusion. The best way to handle it would be to replace it with mean and median."
   ]
  },
  {
   "cell_type": "markdown",
   "id": "87144b1b",
   "metadata": {},
   "source": [
    "## Plotting listing price and sales price"
   ]
  },
  {
   "cell_type": "code",
   "execution_count": 12,
   "id": "a710070a",
   "metadata": {
    "scrolled": false
   },
   "outputs": [
    {
     "data": {
      "image/png": "[encoded data removed]",
      "text/plain": [
       "<Figure size 500x300 with 1 Axes>"
      ]
     },
     "metadata": {},
     "output_type": "display_data"
    }
   ],
   "source": [
    "\n",
    "plt.figure(figsize=(5,3))\n",
    "x = nike_data.sale_price\n",
    "y =nike_data.listing_price\n",
    "\n",
    "plt.xlabel(\"Sales price\")\n",
    "plt.ylabel(\"Listing price\")\n",
    "plt.title('Listing price and Sales price', fontsize = 20)\n",
    "\n",
    "plt.plot(x,y )\n",
    "plt.show()"
   ]
  },
  {
   "cell_type": "markdown",
   "id": "99d91f31",
   "metadata": {},
   "source": [
    "### The graph shows a positive correlation between listing price and sales price. This means that, on average, products with higher listing prices also have higher sales prices. However, there is also a lot of variation in the data, with some products selling for above their listing price and others selling for below their listing price. This variation is likely due to a number of factors, such as the popularity of the product, the condition of the product, and the time of year."
   ]
  },
  {
   "cell_type": "markdown",
   "id": "219892f3",
   "metadata": {},
   "source": [
    "## Plotting histogram of Listing price"
   ]
  },
  {
   "cell_type": "code",
   "execution_count": 13,
   "id": "d92ee321",
   "metadata": {},
   "outputs": [
    {
     "data": {
      "image/png": "[encoded data removed]",
      "text/plain": [
       "<Figure size 500x300 with 1 Axes>"
      ]
     },
     "metadata": {},
     "output_type": "display_data"
    }
   ],
   "source": [
    "plt.figure(figsize=(5,3))\n",
    "sns.histplot(data=nike_data, x='listing_price', bins=10)\n",
    "plt.xlabel('Listing price')\n",
    "plt.ylabel('Frequency')\n",
    "plt.title('Distribution Listing price' , fontsize = 30)\n",
    "\n",
    "plt.show()"
   ]
  },
  {
   "cell_type": "markdown",
   "id": "fb3298cb",
   "metadata": {},
   "source": [
    "## Plotting histogram of Sale price"
   ]
  },
  {
   "cell_type": "code",
   "execution_count": 14,
   "id": "26e7f581",
   "metadata": {},
   "outputs": [
    {
     "data": {
      "image/png": "[encoded data removed]",
      "text/plain": [
       "<Figure size 500x300 with 1 Axes>"
      ]
     },
     "metadata": {},
     "output_type": "display_data"
    }
   ],
   "source": [
    "plt.figure(figsize=(5,3))\n",
    "sns.histplot(data=nike_data, x='sale_price', bins=10)\n",
    "plt.xlabel('Sale price')\n",
    "plt.ylabel('Frequency')\n",
    "plt.title('Distribution Sale price' , fontsize = 30)\n",
    "\n",
    "plt.show()"
   ]
  },
  {
   "cell_type": "markdown",
   "id": "8e42410e",
   "metadata": {},
   "source": [
    "### Analysis: Most of shoe sales where from price ranging 5000 to 15000 . We can figure out a trend from the graph that the data is Left skewed or shoes with listing price from 5000 to 10000 are sold the most."
   ]
  },
  {
   "cell_type": "markdown",
   "id": "15fe7604",
   "metadata": {},
   "source": []
  },
  {
   "cell_type": "markdown",
   "id": "76695d44",
   "metadata": {},
   "source": [
    "# Univariate analysis"
   ]
  },
  {
   "cell_type": "markdown",
   "id": "81636ddf",
   "metadata": {},
   "source": [
    "## 1)As the listing price consists of values as 0 , so it is replaced with the median values "
   ]
  },
  {
   "cell_type": "code",
   "execution_count": 15,
   "id": "e1fa4957",
   "metadata": {},
   "outputs": [],
   "source": [
    "# As the column contained listing prices as 0s , so for the time being it is replaced with median values for the sake of calculation\n",
    "\n",
    "column_name = 'listing_price'  #storing the values in the variable\n",
    "\n",
    "# Calculate the median of the column (excluding zeros)\n",
    "median_value = nike_data[nike_data[column_name] != 0][column_name].median() \n",
    "# median() function is used to calculate the median \n",
    "\n",
    "# Replace zeros with the median value\n",
    "nike_data[column_name] = nike_data[column_name].replace(0, median_value)\n",
    "# using the replace() function to replace the values of 0 with median i.e. impuation "
   ]
  },
  {
   "cell_type": "code",
   "execution_count": 16,
   "id": "dc52bf0d",
   "metadata": {
    "scrolled": true
   },
   "outputs": [
    {
     "data": {
      "text/plain": [
       "0    10995\n",
       "1    10995\n",
       "2    10995\n",
       "3    10995\n",
       "4    10995\n",
       "Name: listing_price, dtype: int64"
      ]
     },
     "execution_count": 16,
     "metadata": {},
     "output_type": "execute_result"
    }
   ],
   "source": [
    "nike_data.listing_price.head()# displaying of first 5 listing price replaced with median "
   ]
  },
  {
   "cell_type": "code",
   "execution_count": 17,
   "id": "789f1231",
   "metadata": {},
   "outputs": [
    {
     "data": {
      "image/png": "[encoded data removed]",
      "text/plain": [
       "<Figure size 500x300 with 1 Axes>"
      ]
     },
     "metadata": {},
     "output_type": "display_data"
    }
   ],
   "source": [
    "# PLotting histogram between \n",
    "plt.figure(figsize=(5,3))\n",
    "sns.histplot(data=nike_data, x='listing_price', bins=10)\n",
    "plt.xlabel('Listing price')\n",
    "plt.ylabel('Frequency')\n",
    "plt.title('Distribution Listing price' , fontsize = 30)\n",
    "\n",
    "plt.show()"
   ]
  },
  {
   "cell_type": "code",
   "execution_count": 18,
   "id": "31a10fc4",
   "metadata": {},
   "outputs": [],
   "source": [
    "# nike_data['reviews'].value_counts()"
   ]
  },
  {
   "cell_type": "code",
   "execution_count": 19,
   "id": "1f54f161",
   "metadata": {
    "scrolled": true
   },
   "outputs": [
    {
     "data": {
      "text/plain": [
       "0    0\n",
       "1    0\n",
       "2    0\n",
       "3    0\n",
       "4    0\n",
       "Name: reviews, dtype: int64"
      ]
     },
     "execution_count": 19,
     "metadata": {},
     "output_type": "execute_result"
    }
   ],
   "source": [
    "nike_data.reviews.head()"
   ]
  },
  {
   "cell_type": "code",
   "execution_count": 20,
   "id": "bbbf9015",
   "metadata": {
    "scrolled": false
   },
   "outputs": [
    {
     "data": {
      "text/plain": [
       "product_name     0\n",
       "product_id       0\n",
       "listing_price    0\n",
       "sale_price       0\n",
       "discount         0\n",
       "brand            0\n",
       "description      3\n",
       "rating           0\n",
       "reviews          0\n",
       "dtype: int64"
      ]
     },
     "execution_count": 20,
     "metadata": {},
     "output_type": "execute_result"
    }
   ],
   "source": [
    "nike_data.isnull().sum()"
   ]
  },
  {
   "cell_type": "markdown",
   "id": "6d145cf7",
   "metadata": {},
   "source": [
    "#  Finding Outliers"
   ]
  },
  {
   "cell_type": "code",
   "execution_count": 81,
   "id": "9c17b629",
   "metadata": {},
   "outputs": [
    {
     "data": {
      "text/plain": [
       "count      643.000000\n",
       "mean     10213.676516\n",
       "std       4513.289512\n",
       "min       1595.000000\n",
       "25%       6995.000000\n",
       "50%       9597.000000\n",
       "75%      12797.000000\n",
       "max      36500.000000\n",
       "Name: sale_price, dtype: float64"
      ]
     },
     "execution_count": 81,
     "metadata": {},
     "output_type": "execute_result"
    }
   ],
   "source": [
    "nike_data.sale_price.describe()"
   ]
  },
  {
   "cell_type": "code",
   "execution_count": 82,
   "id": "bf343f06",
   "metadata": {},
   "outputs": [],
   "source": [
    "values = nike_data['sale_price']"
   ]
  },
  {
   "cell_type": "code",
   "execution_count": 83,
   "id": "c47e366d",
   "metadata": {},
   "outputs": [
    {
     "data": {
      "text/plain": [
       "643"
      ]
     },
     "execution_count": 83,
     "metadata": {},
     "output_type": "execute_result"
    }
   ],
   "source": [
    "values.count()"
   ]
  },
  {
   "cell_type": "code",
   "execution_count": 84,
   "id": "61f4a9b5",
   "metadata": {},
   "outputs": [
    {
     "data": {
      "text/plain": [
       "6995.0"
      ]
     },
     "execution_count": 84,
     "metadata": {},
     "output_type": "execute_result"
    }
   ],
   "source": [
    "Q1 = np.percentile(values,25) # calculating the mean of 25%\n",
    "Q1"
   ]
  },
  {
   "cell_type": "code",
   "execution_count": 95,
   "id": "6c41e26b",
   "metadata": {},
   "outputs": [
    {
     "data": {
      "text/plain": [
       "12797.0"
      ]
     },
     "execution_count": 95,
     "metadata": {},
     "output_type": "execute_result"
    }
   ],
   "source": [
    "Q3 = np.percentile(values,75) # calculating the mean of 75%\n",
    "Q3"
   ]
  },
  {
   "cell_type": "code",
   "execution_count": 96,
   "id": "78de7000",
   "metadata": {},
   "outputs": [
    {
     "data": {
      "text/plain": [
       "5802.0"
      ]
     },
     "execution_count": 96,
     "metadata": {},
     "output_type": "execute_result"
    }
   ],
   "source": [
    "# Finding the interquartile range\n",
    "IQR = Q3 - Q1\n",
    "IQR"
   ]
  },
  {
   "cell_type": "code",
   "execution_count": 97,
   "id": "809c4225",
   "metadata": {},
   "outputs": [
    {
     "data": {
      "text/plain": [
       "-1708.0"
      ]
     },
     "execution_count": 97,
     "metadata": {},
     "output_type": "execute_result"
    }
   ],
   "source": [
    "#finding the lower quartile\n",
    "Lower = Q1 - 1.5*IQR\n",
    "Lower"
   ]
  },
  {
   "cell_type": "code",
   "execution_count": 98,
   "id": "57f87dcf",
   "metadata": {},
   "outputs": [
    {
     "data": {
      "text/plain": [
       "21500.0"
      ]
     },
     "execution_count": 98,
     "metadata": {},
     "output_type": "execute_result"
    }
   ],
   "source": [
    "#finding the upper quartile\n",
    "Upper = Q3 + 1.5*IQR\n",
    "Upper"
   ]
  },
  {
   "cell_type": "code",
   "execution_count": 99,
   "id": "0c36485d",
   "metadata": {},
   "outputs": [
    {
     "data": {
      "text/html": [
       "<div>\n",
       "<style scoped>\n",
       "    .dataframe tbody tr th:only-of-type {\n",
       "        vertical-align: middle;\n",
       "    }\n",
       "\n",
       "    .dataframe tbody tr th {\n",
       "        vertical-align: top;\n",
       "    }\n",
       "\n",
       "    .dataframe thead th {\n",
       "        text-align: right;\n",
       "    }\n",
       "</style>\n",
       "<table border=\"1\" class=\"dataframe\">\n",
       "  <thead>\n",
       "    <tr style=\"text-align: right;\">\n",
       "      <th></th>\n",
       "      <th>product_name</th>\n",
       "      <th>product_id</th>\n",
       "      <th>listing_price</th>\n",
       "      <th>sale_price</th>\n",
       "      <th>discount</th>\n",
       "      <th>brand</th>\n",
       "      <th>description</th>\n",
       "      <th>rating</th>\n",
       "      <th>reviews</th>\n",
       "      <th>discount_percentage</th>\n",
       "      <th>description_length</th>\n",
       "    </tr>\n",
       "  </thead>\n",
       "  <tbody>\n",
       "    <tr>\n",
       "      <th>49</th>\n",
       "      <td>Nike Mercurial Vapor 13 Elite Neymar Jr. FG</td>\n",
       "      <td>AT7898-104</td>\n",
       "      <td>10995</td>\n",
       "      <td>22995</td>\n",
       "      <td>0</td>\n",
       "      <td>Nike</td>\n",
       "      <td>Building on the 360 innovation of the 12, the ...</td>\n",
       "      <td>0.0</td>\n",
       "      <td>0</td>\n",
       "      <td>-109.140518</td>\n",
       "      <td>309.0</td>\n",
       "    </tr>\n",
       "    <tr>\n",
       "      <th>68</th>\n",
       "      <td>Nike Mercurial Superfly 7 Elite SE FG</td>\n",
       "      <td>CT1099-093</td>\n",
       "      <td>10995</td>\n",
       "      <td>24995</td>\n",
       "      <td>0</td>\n",
       "      <td>Nike</td>\n",
       "      <td>Everyone starts somewhere and Kylian Mbappé st...</td>\n",
       "      <td>0.0</td>\n",
       "      <td>0</td>\n",
       "      <td>-127.330605</td>\n",
       "      <td>305.0</td>\n",
       "    </tr>\n",
       "    <tr>\n",
       "      <th>89</th>\n",
       "      <td>Nike Mercurial Superfly 7 Elite SE FG</td>\n",
       "      <td>CD6721-808</td>\n",
       "      <td>10995</td>\n",
       "      <td>22995</td>\n",
       "      <td>0</td>\n",
       "      <td>Nike</td>\n",
       "      <td>Building on the 360-degree Flyknit innovation ...</td>\n",
       "      <td>0.0</td>\n",
       "      <td>0</td>\n",
       "      <td>-109.140518</td>\n",
       "      <td>310.0</td>\n",
       "    </tr>\n",
       "  </tbody>\n",
       "</table>\n",
       "</div>"
      ],
      "text/plain": [
       "                                   product_name  product_id  listing_price  \\\n",
       "49  Nike Mercurial Vapor 13 Elite Neymar Jr. FG  AT7898-104          10995   \n",
       "68        Nike Mercurial Superfly 7 Elite SE FG  CT1099-093          10995   \n",
       "89        Nike Mercurial Superfly 7 Elite SE FG  CD6721-808          10995   \n",
       "\n",
       "    sale_price  discount brand  \\\n",
       "49       22995         0  Nike   \n",
       "68       24995         0  Nike   \n",
       "89       22995         0  Nike   \n",
       "\n",
       "                                          description  rating  reviews  \\\n",
       "49  Building on the 360 innovation of the 12, the ...     0.0        0   \n",
       "68  Everyone starts somewhere and Kylian Mbappé st...     0.0        0   \n",
       "89  Building on the 360-degree Flyknit innovation ...     0.0        0   \n",
       "\n",
       "    discount_percentage  description_length  \n",
       "49          -109.140518               309.0  \n",
       "68          -127.330605               305.0  \n",
       "89          -109.140518               310.0  "
      ]
     },
     "execution_count": 99,
     "metadata": {},
     "output_type": "execute_result"
    }
   ],
   "source": [
    "outliers =nike_data[(values < Lower) | (values > Upper)] \n",
    "outliers.head(3)"
   ]
  },
  {
   "cell_type": "code",
   "execution_count": 100,
   "id": "05a61340",
   "metadata": {},
   "outputs": [
    {
     "data": {
      "text/plain": [
       "18"
      ]
     },
     "execution_count": 100,
     "metadata": {},
     "output_type": "execute_result"
    }
   ],
   "source": [
    "outliers['sale_price'].count()"
   ]
  },
  {
   "cell_type": "code",
   "execution_count": 101,
   "id": "b650ea13",
   "metadata": {},
   "outputs": [
    {
     "data": {
      "text/plain": [
       "count       18.000000\n",
       "mean     23911.944444\n",
       "std       3327.698878\n",
       "min      21995.000000\n",
       "25%      22245.000000\n",
       "50%      22995.000000\n",
       "75%      24495.000000\n",
       "max      36500.000000\n",
       "Name: sale_price, dtype: float64"
      ]
     },
     "execution_count": 101,
     "metadata": {},
     "output_type": "execute_result"
    }
   ],
   "source": [
    "outliers['sale_price'].describe()"
   ]
  },
  {
   "cell_type": "code",
   "execution_count": 102,
   "id": "9ada7358",
   "metadata": {},
   "outputs": [
    {
     "data": {
      "text/html": [
       "<div>\n",
       "<style scoped>\n",
       "    .dataframe tbody tr th:only-of-type {\n",
       "        vertical-align: middle;\n",
       "    }\n",
       "\n",
       "    .dataframe tbody tr th {\n",
       "        vertical-align: top;\n",
       "    }\n",
       "\n",
       "    .dataframe thead th {\n",
       "        text-align: right;\n",
       "    }\n",
       "</style>\n",
       "<table border=\"1\" class=\"dataframe\">\n",
       "  <thead>\n",
       "    <tr style=\"text-align: right;\">\n",
       "      <th></th>\n",
       "      <th>product_name</th>\n",
       "      <th>product_id</th>\n",
       "      <th>listing_price</th>\n",
       "      <th>sale_price</th>\n",
       "      <th>discount</th>\n",
       "      <th>brand</th>\n",
       "      <th>description</th>\n",
       "      <th>rating</th>\n",
       "      <th>reviews</th>\n",
       "      <th>discount_percentage</th>\n",
       "      <th>description_length</th>\n",
       "    </tr>\n",
       "  </thead>\n",
       "  <tbody>\n",
       "    <tr>\n",
       "      <th>0</th>\n",
       "      <td>Nike Air Force 1 '07 Essential</td>\n",
       "      <td>CJ1646-600</td>\n",
       "      <td>10995</td>\n",
       "      <td>7495</td>\n",
       "      <td>0</td>\n",
       "      <td>Nike</td>\n",
       "      <td>Let your shoe game shimmer in the Nike Air For...</td>\n",
       "      <td>0.0</td>\n",
       "      <td>0</td>\n",
       "      <td>31.832651</td>\n",
       "      <td>170.0</td>\n",
       "    </tr>\n",
       "    <tr>\n",
       "      <th>1</th>\n",
       "      <td>Nike Air Force 1 '07</td>\n",
       "      <td>CT4328-101</td>\n",
       "      <td>10995</td>\n",
       "      <td>7495</td>\n",
       "      <td>0</td>\n",
       "      <td>Nike</td>\n",
       "      <td>The legend lives on in the Nike Air Force 1 '0...</td>\n",
       "      <td>0.0</td>\n",
       "      <td>0</td>\n",
       "      <td>31.832651</td>\n",
       "      <td>138.0</td>\n",
       "    </tr>\n",
       "    <tr>\n",
       "      <th>2</th>\n",
       "      <td>Nike Air Force 1 Sage Low LX</td>\n",
       "      <td>CI3482-200</td>\n",
       "      <td>10995</td>\n",
       "      <td>9995</td>\n",
       "      <td>0</td>\n",
       "      <td>Nike</td>\n",
       "      <td>Taking both height and craft to new levels, th...</td>\n",
       "      <td>0.0</td>\n",
       "      <td>0</td>\n",
       "      <td>9.095043</td>\n",
       "      <td>201.0</td>\n",
       "    </tr>\n",
       "  </tbody>\n",
       "</table>\n",
       "</div>"
      ],
      "text/plain": [
       "                     product_name  product_id  listing_price  sale_price  \\\n",
       "0  Nike Air Force 1 '07 Essential  CJ1646-600          10995        7495   \n",
       "1            Nike Air Force 1 '07  CT4328-101          10995        7495   \n",
       "2    Nike Air Force 1 Sage Low LX  CI3482-200          10995        9995   \n",
       "\n",
       "   discount brand                                        description  rating  \\\n",
       "0         0  Nike  Let your shoe game shimmer in the Nike Air For...     0.0   \n",
       "1         0  Nike  The legend lives on in the Nike Air Force 1 '0...     0.0   \n",
       "2         0  Nike  Taking both height and craft to new levels, th...     0.0   \n",
       "\n",
       "   reviews  discount_percentage  description_length  \n",
       "0        0            31.832651               170.0  \n",
       "1        0            31.832651               138.0  \n",
       "2        0             9.095043               201.0  "
      ]
     },
     "execution_count": 102,
     "metadata": {},
     "output_type": "execute_result"
    }
   ],
   "source": [
    "trim_outliers = nike_data[(values > Lower) & (values < Upper)] \n",
    "trim_outliers.head(3)"
   ]
  },
  {
   "cell_type": "code",
   "execution_count": 33,
   "id": "921b9447",
   "metadata": {},
   "outputs": [
    {
     "data": {
      "text/plain": [
       "625"
      ]
     },
     "execution_count": 33,
     "metadata": {},
     "output_type": "execute_result"
    }
   ],
   "source": [
    "trim_outliers['sale_price'].count()"
   ]
  },
  {
   "cell_type": "code",
   "execution_count": 34,
   "id": "53de3c2b",
   "metadata": {},
   "outputs": [
    {
     "data": {
      "text/plain": [
       "count      625.000000\n",
       "mean      9819.166400\n",
       "std       3884.203223\n",
       "min       1595.000000\n",
       "25%       6995.000000\n",
       "50%       9597.000000\n",
       "75%      11997.000000\n",
       "max      20995.000000\n",
       "Name: sale_price, dtype: float64"
      ]
     },
     "execution_count": 34,
     "metadata": {},
     "output_type": "execute_result"
    }
   ],
   "source": [
    "trim_outliers['sale_price'].describe()"
   ]
  },
  {
   "cell_type": "code",
   "execution_count": 104,
   "id": "c22ca43c",
   "metadata": {},
   "outputs": [
    {
     "name": "stderr",
     "output_type": "stream",
     "text": [
      "F:\\P\\lib\\site-packages\\seaborn\\_decorators.py:36: FutureWarning: Pass the following variable as a keyword arg: x. From version 0.12, the only valid positional argument will be `data`, and passing other arguments without an explicit keyword will result in an error or misinterpretation.\n",
      "  warnings.warn(\n",
      "F:\\P\\lib\\site-packages\\seaborn\\_decorators.py:36: FutureWarning: Pass the following variable as a keyword arg: x. From version 0.12, the only valid positional argument will be `data`, and passing other arguments without an explicit keyword will result in an error or misinterpretation.\n",
      "  warnings.warn(\n"
     ]
    },
    {
     "data": {
      "text/plain": [
       "<AxesSubplot:title={'center':'After'}, xlabel='sale_price'>"
      ]
     },
     "execution_count": 104,
     "metadata": {},
     "output_type": "execute_result"
    },
    {
     "data": {
      "image/png": "[encoded data removed]",
      "text/plain": [
       "<Figure size 1000x500 with 2 Axes>"
      ]
     },
     "metadata": {},
     "output_type": "display_data"
    }
   ],
   "source": [
    "plt.figure(figsize=(10,5))\n",
    "plt.subplot(2,2,1)\n",
    "plt.title(\"Before\", fontsize =20 , color = 'r')\n",
    "values = nike_data['sale_price']\n",
    "sns.boxplot(values)\n",
    "plt.subplot(2,2,2)\n",
    "plt.title(\"After\", fontsize =20 , color = 'g')\n",
    "values1 = trim_outliers['sale_price']\n",
    "sns.boxplot(values1)\n"
   ]
  },
  {
   "cell_type": "markdown",
   "id": "3b750cf7",
   "metadata": {},
   "source": [
    "#### I came to know to know that the lower quartile is -1708 and upper quartile is 21500.\n",
    "#### Values beyond and after this are considered as an outliers and if we consider this values in our calculations then it will alter the values in calculating the mean and median in our dataset.\n",
    "#### Conclusion - Before removing the outlier the max sales price was 36500 and after removing its 20995. We can observe the difference it could create , if we had considered in out calculation. So, for better calculation it is removed."
   ]
  },
  {
   "cell_type": "markdown",
   "id": "eb16a79c",
   "metadata": {},
   "source": [
    "## Z scores"
   ]
  },
  {
   "cell_type": "code",
   "execution_count": 36,
   "id": "6ad36347",
   "metadata": {},
   "outputs": [
    {
     "name": "stdout",
     "output_type": "stream",
     "text": [
      "Outliers in sales prices:\n",
      "68     24995\n",
      "306    24995\n",
      "523    36500\n",
      "524    24995\n",
      "539    24995\n",
      "Name: sale_price, dtype: int64\n"
     ]
    }
   ],
   "source": [
    " \n",
    "from scipy import stats\n",
    "z_scores = stats.zscore(nike_data['sale_price'])\n",
    "outliers = nike_data[(z_scores < -3) | (z_scores > 3)]\n",
    "print(\"Outliers in sales prices:\")\n",
    "print(outliers['sale_price'])"
   ]
  },
  {
   "cell_type": "markdown",
   "id": "1457bc1b",
   "metadata": {},
   "source": [
    "# 2) What is the average listing price of Nike shoes in the dataset?"
   ]
  },
  {
   "cell_type": "code",
   "execution_count": 37,
   "id": "023ce8e5",
   "metadata": {},
   "outputs": [
    {
     "name": "stdout",
     "output_type": "stream",
     "text": [
      "Average listing price of Nike shoes: $11160.16\n"
     ]
    }
   ],
   "source": [
    "average_listing_price = nike_data['listing_price'].mean()\n",
    "print(f\"Average listing price of Nike shoes: ${average_listing_price:.2f}\")"
   ]
  },
  {
   "cell_type": "markdown",
   "id": "e75a379f",
   "metadata": {},
   "source": [
    "# 3) What is the average sales price of Nike shoes in the dataset?"
   ]
  },
  {
   "cell_type": "code",
   "execution_count": 38,
   "id": "de4f70c8",
   "metadata": {},
   "outputs": [
    {
     "name": "stdout",
     "output_type": "stream",
     "text": [
      "Average sales price of Nike shoes: $10213.68\n"
     ]
    }
   ],
   "source": [
    "average_sales_price = nike_data['sale_price'].mean()\n",
    "print(f\"Average sales price of Nike shoes: ${average_sales_price:.2f}\")"
   ]
  },
  {
   "cell_type": "markdown",
   "id": "70184df8",
   "metadata": {},
   "source": [
    "# 4)Which Nike shoe has the highest listing price?"
   ]
  },
  {
   "cell_type": "code",
   "execution_count": 39,
   "id": "98a91b6d",
   "metadata": {},
   "outputs": [
    {
     "name": "stdout",
     "output_type": "stream",
     "text": [
      "The Nike shoe with the highest listing price is: Nike Air Max 720 Horizon\n"
     ]
    }
   ],
   "source": [
    "\n",
    "highest_listing_price_shoe = nike_data.loc[nike_data['listing_price'].idxmax()]['product_name']\n",
    "print(f\"The Nike shoe with the highest listing price is: {highest_listing_price_shoe}\")\n"
   ]
  },
  {
   "cell_type": "markdown",
   "id": "84358bce",
   "metadata": {},
   "source": [
    "# 5)What is the distribution of shoe ratings in the dataset?"
   ]
  },
  {
   "cell_type": "code",
   "execution_count": 40,
   "id": "cc227fc6",
   "metadata": {},
   "outputs": [
    {
     "data": {
      "image/png": "[encoded data removed]",
      "text/plain": [
       "<Figure size 500x300 with 1 Axes>"
      ]
     },
     "metadata": {},
     "output_type": "display_data"
    }
   ],
   "source": [
    "plt.figure(figsize=(5, 3))\n",
    "sns.histplot(data=nike_data, x='rating', bins=20)\n",
    "plt.xlabel('Shoe Rating')\n",
    "plt.ylabel('Frequency')\n",
    "plt.title('Distribution of Shoe Ratings' , fontsize = 30)\n",
    "\n",
    "plt.show()"
   ]
  },
  {
   "cell_type": "markdown",
   "id": "d243338d",
   "metadata": {},
   "source": [
    "### Analysis: The distribution is fairly evenly distributed, with a slight skew towards higher ratings. The average shoe rating is 4.5 stars, and the median shoe rating is also 4.5 stars. This suggests that most customers are satisfied with the shoes they are buying. The most common shoe rating is 5 stars, followed by 4 stars and 3 stars. There are very few shoes with ratings of 1 star or 2 stars."
   ]
  },
  {
   "cell_type": "markdown",
   "id": "4ab2f378",
   "metadata": {},
   "source": [
    "# 6)What is the distribution of the number of reviews for Nike shoes?"
   ]
  },
  {
   "cell_type": "code",
   "execution_count": 41,
   "id": "1c293b14",
   "metadata": {
    "scrolled": true
   },
   "outputs": [
    {
     "data": {
      "image/png": "[encoded data removed]",
      "text/plain": [
       "<Figure size 500x300 with 1 Axes>"
      ]
     },
     "metadata": {},
     "output_type": "display_data"
    }
   ],
   "source": [
    "plt.figure(figsize=(5,3))\n",
    "sns.histplot(data=nike_data, x='reviews', bins=20) #  bin represents a specific range of values\n",
    "plt.xlabel('Number of Reviews')\n",
    "plt.ylabel('Frequency')\n",
    "plt.title('Distribution of Number of Reviews' , fontsize = 25, color='g')\n",
    "plt.show()"
   ]
  },
  {
   "cell_type": "markdown",
   "id": "b26977f6",
   "metadata": {},
   "source": [
    "### The distribution of the number of reviews for Nike shoes in the image is skewed to the right, with a long tail of shoes with a large number of reviews. This means that there are a few Nike shoes that are very popular and have a lot of reviews, but most Nike shoes have a relatively small number of reviews. "
   ]
  },
  {
   "cell_type": "markdown",
   "id": "28ac9fde",
   "metadata": {},
   "source": [
    "# Distribution of Rating "
   ]
  },
  {
   "cell_type": "code",
   "execution_count": 42,
   "id": "3d6639b2",
   "metadata": {
    "scrolled": true
   },
   "outputs": [
    {
     "data": {
      "image/png": "[encoded data removed]",
      "text/plain": [
       "<Figure size 500x300 with 1 Axes>"
      ]
     },
     "metadata": {},
     "output_type": "display_data"
    }
   ],
   "source": [
    "values= nike_data['rating']\n",
    "\n",
    "plt.figure(figsize=(5,3))\n",
    "sns.histplot(data=nike_data, x=values, bins=50) #  bin represents a specific range of values\n",
    "plt.xlabel('Number of Ratings')\n",
    "plt.ylabel('Frequency')\n",
    "plt.title('Distribution of Number of Ratings' , fontsize = 25, color='g')\n",
    "plt.show()"
   ]
  },
  {
   "cell_type": "markdown",
   "id": "dff136d0",
   "metadata": {},
   "source": [
    "### The graph is slightly  right skewed where the rating with higer value has more frequenc . But also we can there is slight derfarmation that 0 rating has the highest frequnecy.\n",
    "### The company should look for sales which has 0 rating and the product quality should be improved."
   ]
  },
  {
   "cell_type": "markdown",
   "id": "4c6f99db",
   "metadata": {},
   "source": [
    "# 7) What is the most common product of Nike shoes in the dataset?"
   ]
  },
  {
   "cell_type": "code",
   "execution_count": 43,
   "id": "0f256cf6",
   "metadata": {},
   "outputs": [
    {
     "name": "stdout",
     "output_type": "stream",
     "text": [
      "The most common product of Nike shoes is: Nike Air Max 90\n"
     ]
    }
   ],
   "source": [
    "most_common_product = nike_data['product_name'].mode()[0]\n",
    "print(f\"The most common product of Nike shoes is: {most_common_product}\")"
   ]
  },
  {
   "cell_type": "markdown",
   "id": "1437bed3",
   "metadata": {},
   "source": []
  },
  {
   "cell_type": "markdown",
   "id": "dbd9e2da",
   "metadata": {},
   "source": [
    "# Bivariate Analysis"
   ]
  },
  {
   "cell_type": "markdown",
   "id": "1601583c",
   "metadata": {},
   "source": [
    "# 8)What is the average discount percentage for Nike shoes?"
   ]
  },
  {
   "cell_type": "code",
   "execution_count": 44,
   "id": "901ff56a",
   "metadata": {},
   "outputs": [
    {
     "name": "stdout",
     "output_type": "stream",
     "text": [
      "Average discount percentage for Nike shoes: 8.16%\n"
     ]
    }
   ],
   "source": [
    "nike_data['discount_percentage'] = ((nike_data['listing_price'] - nike_data['sale_price']) / nike_data['listing_price']) * 100\n",
    "average_discount_percentage = nike_data['discount_percentage'].mean()\n",
    "print(f\"Average discount percentage for Nike shoes: {average_discount_percentage:.2f}%\")"
   ]
  },
  {
   "cell_type": "markdown",
   "id": "50a6924f",
   "metadata": {},
   "source": [
    "\n",
    "# 9)Which Nike shoe has the highest listing price?"
   ]
  },
  {
   "cell_type": "code",
   "execution_count": 45,
   "id": "92a09015",
   "metadata": {},
   "outputs": [
    {
     "name": "stdout",
     "output_type": "stream",
     "text": [
      "The Nike shoe with the highest listing price is: Nike Air Max 720 Horizon\n"
     ]
    }
   ],
   "source": [
    "\n",
    "highest_listing_price_shoe = nike_data.loc[nike_data['listing_price'].idxmax()]['product_name']\n",
    "print(f\"The Nike shoe with the highest listing price is: {highest_listing_price_shoe}\")\n"
   ]
  },
  {
   "cell_type": "markdown",
   "id": "f1f973eb",
   "metadata": {},
   "source": [
    "# 10) Which Nike shoe has the highest sales price?"
   ]
  },
  {
   "cell_type": "code",
   "execution_count": 46,
   "id": "a99560ff",
   "metadata": {},
   "outputs": [
    {
     "name": "stdout",
     "output_type": "stream",
     "text": [
      "The Nike shoe with the highest sales price is: Nike Air VaporMax Flyknit 2 LXX\n"
     ]
    }
   ],
   "source": [
    "highest_sales_price_shoe = nike_data.loc[nike_data['sale_price'].idxmax()]['product_name']\n",
    "print(f\"The Nike shoe with the highest sales price is: {highest_sales_price_shoe}\")"
   ]
  },
  {
   "cell_type": "markdown",
   "id": "29056d3f",
   "metadata": {},
   "source": [
    "#  11)Which Nike shoe has the highest rating?"
   ]
  },
  {
   "cell_type": "code",
   "execution_count": 105,
   "id": "776daba4",
   "metadata": {},
   "outputs": [
    {
     "name": "stdout",
     "output_type": "stream",
     "text": [
      "The Nike shoe with the highest rating is: Nike Free Metcon 3\n"
     ]
    }
   ],
   "source": [
    "\n",
    "highest_rated_shoe = nike_data.loc[nike_data['rating'].idxmax()]['product_name']\n",
    "print(f\"The Nike shoe with the highest rating is: {highest_rated_shoe}\")\n"
   ]
  },
  {
   "cell_type": "markdown",
   "id": "9d669fcb",
   "metadata": {},
   "source": [
    "# 12)Which Nike shoe has the most reviews?"
   ]
  },
  {
   "cell_type": "code",
   "execution_count": 48,
   "id": "9ef4bbb2",
   "metadata": {
    "scrolled": true
   },
   "outputs": [
    {
     "name": "stdout",
     "output_type": "stream",
     "text": [
      "The Nike shoe with the most reviews is: Air Jordan 10 Retro\n"
     ]
    }
   ],
   "source": [
    "\n",
    "most_reviewed_shoe = nike_data.loc[nike_data['reviews'].idxmax()]['product_name']\n",
    "print(f\"The Nike shoe with the most reviews is: {most_reviewed_shoe}\")"
   ]
  },
  {
   "cell_type": "markdown",
   "id": "5a270e3c",
   "metadata": {},
   "source": [
    "# 13)What is the correlation between shoe rating and the number of reviews?"
   ]
  },
  {
   "cell_type": "code",
   "execution_count": 49,
   "id": "9ac2ec21",
   "metadata": {
    "scrolled": true
   },
   "outputs": [
    {
     "name": "stdout",
     "output_type": "stream",
     "text": [
      "Correlation between shoe rating and number of reviews: 0.30\n"
     ]
    }
   ],
   "source": [
    "correlation_rating_reviews = nike_data['rating'].corr(nike_data['reviews'])\n",
    "print(f\"Correlation between shoe rating and number of reviews: {correlation_rating_reviews:.2f}\")"
   ]
  },
  {
   "cell_type": "markdown",
   "id": "dd212696",
   "metadata": {},
   "source": [
    "This means that there is a very slight tendency for shoes with higher ratings to have fewer reviews, \n",
    "and shoes with lower ratings to have more reviews."
   ]
  },
  {
   "cell_type": "markdown",
   "id": "4197c39a",
   "metadata": {},
   "source": [
    "# 14) Which Nike shoe has the highest discount percentage?"
   ]
  },
  {
   "cell_type": "code",
   "execution_count": 50,
   "id": "1e84a340",
   "metadata": {},
   "outputs": [
    {
     "name": "stdout",
     "output_type": "stream",
     "text": [
      "The Nike shoe with the highest discount percentage is: Nike Kawa Shower\n"
     ]
    }
   ],
   "source": [
    "\n",
    "\n",
    "highest_discount_percentage_shoe = nike_data.loc[nike_data['discount_percentage'].idxmax()]['product_name']\n",
    "print(f\"The Nike shoe with the highest discount percentage is: {highest_discount_percentage_shoe}\")"
   ]
  },
  {
   "cell_type": "markdown",
   "id": "beea7c50",
   "metadata": {},
   "source": [
    "#  15) What is the average rating for Nike shoes with a discount greater than 20%?"
   ]
  },
  {
   "cell_type": "code",
   "execution_count": 51,
   "id": "cec88140",
   "metadata": {},
   "outputs": [
    {
     "name": "stdout",
     "output_type": "stream",
     "text": [
      "Average rating for Nike shoes with a discount greater than 20%: 2.39\n"
     ]
    }
   ],
   "source": [
    "\n",
    "average_rating_high_discount = nike_data[nike_data['discount_percentage'] > 20]['rating'].mean()\n",
    "print(f\"Average rating for Nike shoes with a discount greater than 20%: {average_rating_high_discount:.2f}\")"
   ]
  },
  {
   "cell_type": "markdown",
   "id": "99372a7b",
   "metadata": {},
   "source": [
    "#  16) What is the average rating for Nike shoes with a discount less than 10%?"
   ]
  },
  {
   "cell_type": "code",
   "execution_count": 52,
   "id": "77eaf64b",
   "metadata": {},
   "outputs": [
    {
     "name": "stdout",
     "output_type": "stream",
     "text": [
      "Average rating for Nike shoes with a discount less than 10%: 2.88\n"
     ]
    }
   ],
   "source": [
    "\n",
    "average_rating_low_discount = nike_data[nike_data['discount_percentage'] < 10]['rating'].mean()\n",
    "print(f\"Average rating for Nike shoes with a discount less than 10%: {average_rating_low_discount:.2f}\")"
   ]
  },
  {
   "cell_type": "markdown",
   "id": "a3e51822",
   "metadata": {},
   "source": [
    "# 17) What is the relationship between shoe price and the number of reviews?"
   ]
  },
  {
   "cell_type": "code",
   "execution_count": 53,
   "id": "aa72b455",
   "metadata": {},
   "outputs": [
    {
     "data": {
      "image/png": "[encoded data removed]",
      "text/plain": [
       "<Figure size 1000x500 with 1 Axes>"
      ]
     },
     "metadata": {},
     "output_type": "display_data"
    }
   ],
   "source": [
    "\n",
    "plt.figure(figsize=(10, 5))\n",
    "sns.scatterplot(data=nike_data, x='sale_price', y='reviews')\n",
    "plt.xlabel('Sales Price')\n",
    "plt.ylabel('Number of Reviews')\n",
    "plt.title('Relationship between Shoe Price and Number of Reviews', fontsize=25, color = 'g')\n",
    "plt.show()"
   ]
  },
  {
   "cell_type": "markdown",
   "id": "153646f5",
   "metadata": {},
   "source": [
    "It shows a negative correlation between shoe price and the number of reviews. This means that in general shoes with higher prices have fewer reviews, and shoes with lower prices have more reviews."
   ]
  },
  {
   "cell_type": "markdown",
   "id": "8a0320bb",
   "metadata": {},
   "source": [
    "#  18) Are higher-priced Nike shoes rated better on average?"
   ]
  },
  {
   "cell_type": "code",
   "execution_count": 54,
   "id": "4a28935b",
   "metadata": {},
   "outputs": [
    {
     "name": "stdout",
     "output_type": "stream",
     "text": [
      "brand\n",
      "Nike    2.734837\n",
      "Name: rating, dtype: float64\n"
     ]
    }
   ],
   "source": [
    "price_rating_comparison = nike_data.groupby('brand')['rating'].mean()\n",
    "print(price_rating_comparison)"
   ]
  },
  {
   "cell_type": "markdown",
   "id": "19a3bd5f",
   "metadata": {},
   "source": [
    "When compared by rating the mean calculated is 2.73 , so it can be answered as Yes .\n",
    "But from earlier analyse i.e. correlation from reviews and number of rating , it was found \n",
    "that reviews were written when the customer was not happy.\n"
   ]
  },
  {
   "cell_type": "markdown",
   "id": "b7dfdea7",
   "metadata": {},
   "source": [
    "#  19) Which Nike shoe models have the highest and lowest sales prices?"
   ]
  },
  {
   "cell_type": "code",
   "execution_count": 55,
   "id": "92713c4c",
   "metadata": {},
   "outputs": [
    {
     "name": "stdout",
     "output_type": "stream",
     "text": [
      "The Nike shoe model with the highest sales price is: Nike Air VaporMax Flyknit 2 LXX\n",
      "The Nike shoe model with the lowest sales price is: Nike Kawa Shower\n"
     ]
    }
   ],
   "source": [
    "\n",
    "highest_price_shoe_model = nike_data.loc[nike_data['sale_price'].idxmax()]['product_name']\n",
    "lowest_price_shoe_model = nike_data.loc[nike_data['sale_price'].idxmin()]['product_name']\n",
    "print(f\"The Nike shoe model with the highest sales price is: {highest_price_shoe_model}\")\n",
    "print(f\"The Nike shoe model with the lowest sales price is: {lowest_price_shoe_model}\")"
   ]
  },
  {
   "cell_type": "markdown",
   "id": "e61c3398",
   "metadata": {},
   "source": [
    "# 20) Is there a correlation between the length of the shoe description and its rating?"
   ]
  },
  {
   "cell_type": "code",
   "execution_count": 56,
   "id": "d4f55b35",
   "metadata": {},
   "outputs": [
    {
     "name": "stdout",
     "output_type": "stream",
     "text": [
      "Correlation between description length and shoe rating: 0.02\n"
     ]
    }
   ],
   "source": [
    "\n",
    "nike_data['description_length'] = nike_data['description'].str.len()\n",
    "correlation_description_length_rating = nike_data['description_length'].corr(nike_data['rating'])\n",
    "print(f\"Correlation between description length and shoe rating: {correlation_description_length_rating:.2f}\")"
   ]
  },
  {
   "cell_type": "markdown",
   "id": "1d45c189",
   "metadata": {},
   "source": [
    "# 21) What is the distribution of Nike shoe prices by brand?"
   ]
  },
  {
   "cell_type": "code",
   "execution_count": 57,
   "id": "12ab589d",
   "metadata": {},
   "outputs": [
    {
     "data": {
      "image/png": "[encoded data removed]",
      "text/plain": [
       "<Figure size 500x300 with 1 Axes>"
      ]
     },
     "metadata": {},
     "output_type": "display_data"
    }
   ],
   "source": [
    "\n",
    "plt.figure(figsize=(5, 3))\n",
    "sns.boxplot(data=nike_data, x='brand', y='sale_price')\n",
    "plt.xlabel('Brand')\n",
    "plt.ylabel('Sales Price')\n",
    "plt.title('Distribution of Nike Shoe Prices by Brand')\n",
    "plt.xticks(rotation=90)\n",
    "plt.show()"
   ]
  },
  {
   "cell_type": "markdown",
   "id": "451074c1",
   "metadata": {},
   "source": [
    "Analysis: The box plot shows the median, 25th percentile, 75th percentile, and outliers for each brand.\n",
    "The median price for Nike shoes is 10000. However, there is a lot of variation in prices, with some shoes costing \n",
    "less than 5000 and others costing more than 35000."
   ]
  },
  {
   "cell_type": "code",
   "execution_count": null,
   "id": "1606fdbc",
   "metadata": {},
   "outputs": [],
   "source": []
  },
  {
   "cell_type": "code",
   "execution_count": 58,
   "id": "637fc195",
   "metadata": {
    "scrolled": true
   },
   "outputs": [
    {
     "data": {
      "text/plain": [
       "<bound method IndexOpsMixin.value_counts of 0      CJ1646-600\n",
       "1      CT4328-101\n",
       "2      CI3482-200\n",
       "3      CD0479-200\n",
       "4      CZ6156-101\n",
       "          ...    \n",
       "638    CI1236-100\n",
       "639    AO0578-717\n",
       "640    AT7978-414\n",
       "641    AH6799-300\n",
       "642    CJ9585-600\n",
       "Name: product_id, Length: 643, dtype: object>"
      ]
     },
     "execution_count": 58,
     "metadata": {},
     "output_type": "execute_result"
    }
   ],
   "source": [
    "nike_data['product_id'].value_counts # counting the unique values "
   ]
  },
  {
   "cell_type": "code",
   "execution_count": 59,
   "id": "6f916d90",
   "metadata": {},
   "outputs": [
    {
     "data": {
      "text/plain": [
       "<bound method IndexOpsMixin.value_counts of 0            Nike Air Force 1 '07 Essential\n",
       "1                      Nike Air Force 1 '07\n",
       "2              Nike Air Force 1 Sage Low LX\n",
       "3                       Nike Air Max Dia SE\n",
       "4                       Nike Air Max Verona\n",
       "                       ...                 \n",
       "638                      Air Jordan 8 Retro\n",
       "639              Nike Phantom Venom Club IC\n",
       "640    Nike Mercurial Superfly 7 Academy TF\n",
       "641                         Nike Air Max 98\n",
       "642                          Nike P-6000 SE\n",
       "Name: product_name, Length: 643, dtype: object>"
      ]
     },
     "execution_count": 59,
     "metadata": {},
     "output_type": "execute_result"
    }
   ],
   "source": [
    "nike_data['product_name'].value_counts"
   ]
  },
  {
   "cell_type": "code",
   "execution_count": 60,
   "id": "96da65a9",
   "metadata": {},
   "outputs": [
    {
     "data": {
      "text/plain": [
       "<bound method IndexOpsMixin.value_counts of 0       7495\n",
       "1       7495\n",
       "2       9995\n",
       "3       9995\n",
       "4       9995\n",
       "       ...  \n",
       "638    12797\n",
       "639     3497\n",
       "640     5947\n",
       "641    16995\n",
       "642     6297\n",
       "Name: sale_price, Length: 643, dtype: int64>"
      ]
     },
     "execution_count": 60,
     "metadata": {},
     "output_type": "execute_result"
    }
   ],
   "source": [
    "nike_data['sale_price'].value_counts"
   ]
  },
  {
   "cell_type": "code",
   "execution_count": 61,
   "id": "157414d7",
   "metadata": {},
   "outputs": [
    {
     "data": {
      "text/plain": [
       "<bound method IndexOpsMixin.value_counts of 0      10995\n",
       "1      10995\n",
       "2      10995\n",
       "3      10995\n",
       "4      10995\n",
       "       ...  \n",
       "638    15995\n",
       "639     4995\n",
       "640     8495\n",
       "641    10995\n",
       "642     8995\n",
       "Name: listing_price, Length: 643, dtype: int64>"
      ]
     },
     "execution_count": 61,
     "metadata": {},
     "output_type": "execute_result"
    }
   ],
   "source": [
    "nike_data['listing_price'].value_counts"
   ]
  },
  {
   "cell_type": "markdown",
   "id": "f96b5e97",
   "metadata": {},
   "source": [
    "## Multivariate Analysis "
   ]
  },
  {
   "cell_type": "markdown",
   "id": "5909b5ad",
   "metadata": {},
   "source": [
    "                                                                                            \n",
    "Multivariate analysis is a statistical techniques used to analyse data that contains more than two variables. It is used to understand the relationships between these variables and to identify patterns in the data.                                        This technique can be used to answer a variety of questions, such as:  \n",
    "How do different variables relate to each other?                                                                                  What are the most important variables that influence a particular outcome? \n",
    "How can we predict future outcomes based on current data?\n"
   ]
  },
  {
   "cell_type": "markdown",
   "id": "c6bd1f4d",
   "metadata": {},
   "source": []
  },
  {
   "cell_type": "markdown",
   "id": "0d47d750",
   "metadata": {},
   "source": [
    "# Distributions"
   ]
  },
  {
   "cell_type": "markdown",
   "id": "2e44a080",
   "metadata": {},
   "source": [
    "### PDF"
   ]
  },
  {
   "cell_type": "code",
   "execution_count": 62,
   "id": "19ae11b3",
   "metadata": {},
   "outputs": [
    {
     "data": {
      "text/plain": [
       "count      625.000000\n",
       "mean      9819.166400\n",
       "std       3884.203223\n",
       "min       1595.000000\n",
       "25%       6995.000000\n",
       "50%       9597.000000\n",
       "75%      11997.000000\n",
       "max      20995.000000\n",
       "Name: sale_price, dtype: float64"
      ]
     },
     "execution_count": 62,
     "metadata": {},
     "output_type": "execute_result"
    }
   ],
   "source": [
    "trim_outliers['sale_price'].describe()"
   ]
  },
  {
   "cell_type": "code",
   "execution_count": 63,
   "id": "444112c9",
   "metadata": {
    "scrolled": true
   },
   "outputs": [
    {
     "data": {
      "image/png": "[encoded data removed]",
      "text/plain": [
       "<Figure size 500x300 with 1 Axes>"
      ]
     },
     "metadata": {},
     "output_type": "display_data"
    }
   ],
   "source": [
    "import numpy as np\n",
    "from scipy.stats import norm\n",
    "import matplotlib.pyplot as plt\n",
    "\n",
    "mean =  9000\n",
    "std_dev =  3000\n",
    "values = trim_outliers['sale_price']\n",
    "pdf = norm.pdf(values, mean, std_dev)\n",
    "plt.figure(figsize=(5,3))\n",
    "plt.plot(values, pdf)\n",
    "plt.title(\"PDF of Sales price Distribution after removing the outliers\")\n",
    "plt.xlabel(\"Sales price\")\n",
    "plt.ylabel(\"PDF\")\n",
    "plt.show()"
   ]
  },
  {
   "cell_type": "markdown",
   "id": "6d9afebf",
   "metadata": {},
   "source": [
    "The graph shows the sales price distribution after removing the outliers. The distribution is bell-shaped, with a mean of 9000 and a standard deviation of 3000. The distribution is right skewed as its tail toward the right side.\n",
    "This suggests that there are a few sales that are lesser than the average sale or shoes with high sales are less.\n",
    "\n",
    "The graph also shows the probability density function (PDF) of the sales data. The PDF is a curve that shows the probability of a sale occurring at a particular price. The PDF is highest at the mean and decreases as you move away from the mean. This suggests that sales are most likely to occur at the average price."
   ]
  },
  {
   "cell_type": "markdown",
   "id": "5956cbc9",
   "metadata": {},
   "source": [
    "The PDF shows the distribution of sales prices after removing the outliers. \n",
    "The distribution is bell-shaped, with a mean of 9000 and a standard deviation of 3000. \n",
    "This means that most sales prices are close to the mean, with a few sales being much higher or lower.\n",
    "\n",
    "Key Features\n",
    "\n",
    "Mean: 9000\n",
    "Standard deviation: 3000\n",
    "Shape: Bell-shaped\n",
    "Skewness: Skewed to the right (there are a few sales that are much higher than the mean)\n",
    "    \n",
    "Insights\n",
    "Most sales prices are close to the mean of 9000.\n",
    "There are a few sales that are much higher than the mean, which is causing the distribution to be skewed to the right.\n",
    "The standard deviation of 3000 means that 68% of sales prices are within 3000 of the mean, or between 6000 and 12000.\n",
    "\n",
    "Recommendations\n",
    "It would be helpful to know more about the outliers that were removed.\n",
    "This information could help to explain the skewness of the distribution.\n",
    "It would also be interesting to see the distribution of sales prices before the outliers were removed. "
   ]
  },
  {
   "cell_type": "markdown",
   "id": "8b5b8c5b",
   "metadata": {},
   "source": [
    "## Normal Distribution"
   ]
  },
  {
   "cell_type": "code",
   "execution_count": 64,
   "id": "bd1f20ef",
   "metadata": {
    "scrolled": true
   },
   "outputs": [
    {
     "data": {
      "image/png": "[encoded data removed]",
      "text/plain": [
       "<Figure size 500x300 with 1 Axes>"
      ]
     },
     "metadata": {},
     "output_type": "display_data"
    }
   ],
   "source": [
    "import numpy as np\n",
    "import matplotlib.pyplot as plt\n",
    "\n",
    "# Define the parameters of the normal distribution\n",
    "mean = 9000\n",
    "std_dev = 3000\n",
    "\n",
    "# Generate random samples from the normal distribution\n",
    "num_samples = 100\n",
    "samples = np.random.normal(mean, std_dev, num_samples)\n",
    "plt.figure(figsize=(5,3))\n",
    "# Plot a histogram of the samples\n",
    "plt.hist(samples, bins=30, density=True, alpha=0.6, color='g')\n",
    "\n",
    "# Plot the probability density function\n",
    "values = trim_outliers['sale_price']\n",
    "pdf = 1 / (std_dev * np.sqrt(2 * np.pi)) * np.exp(-((values - mean)**2) / (2 * std_dev**2))\n",
    "plt.plot(values, pdf, 'r--', lw=2)\n",
    "\n",
    "plt.title(\"Normal Distribution\")\n",
    "plt.xlabel(\"Sales price\")\n",
    "plt.ylabel(\"Probability Density\")\n",
    "plt.show()\n"
   ]
  },
  {
   "cell_type": "markdown",
   "id": "3f82a66c",
   "metadata": {},
   "source": [
    "Analysis of the Normal Distribution of Sales Price\n",
    "\n",
    "The provided PDF depicts the normal distribution of sales prices, indicating the likelihood of sales occurring at various \n",
    "price points. The distribution exhibits a characteristic bell shape, centered around a mean sales price of 9000 units. This implies that most sales prices cluster around this average value.\n",
    "\n",
    "Key Features\n",
    "\n",
    "Mean: 9000 units\n",
    "\n",
    "Standard Deviation: 3000 units\n",
    "\n",
    "Shape: Symmetrical bell curve\n",
    "\n",
    "Normal Distribution: Data points follow a normal distribution pattern\n",
    "\n",
    "Insights\n",
    "\n",
    "Central Tendency: The mean sales price of 9000 units represents the most common sales price.\n",
    "\n",
    "Standard Deviation: The standard deviation of 3000 units implies that 68% of sales prices fall within 3000 units of the mean (between 6000 and 12000 units).\n",
    "\n",
    "Normal Distribution Pattern: The bell-shaped curve suggests that sales prices tend to cluster around the mean, with fewer\n",
    "sales occurring at prices significantly higher or lower than the mean.\n",
    "\n",
    "Recommendations\n",
    "\n",
    "Identify Factors Influencing Sales Prices: Understanding the factors that influence sales prices, such as product type,\n",
    "customer demographics, and market trends, could provide valuable insights into the distribution pattern.\n",
    "\n",
    "Analyze Outlier Data: Examining the data points that fall outside the standard deviation range (outliers) could reveal underlying reasons for these unusual sales prices.\n",
    "\n",
    "Monitor Sales Trends over Time: Tracking the evolution of the sales price distribution over time could help identify changes \n",
    "in consumer behavior or market dynamics"
   ]
  },
  {
   "cell_type": "markdown",
   "id": "9f692fcb",
   "metadata": {},
   "source": [
    "# Hypothesis Testing "
   ]
  },
  {
   "cell_type": "code",
   "execution_count": 65,
   "id": "fb2dfbd7",
   "metadata": {},
   "outputs": [
    {
     "data": {
      "text/plain": [
       "2.734836702954899"
      ]
     },
     "execution_count": 65,
     "metadata": {},
     "output_type": "execute_result"
    }
   ],
   "source": [
    "nike_data.rating.mean()"
   ]
  },
  {
   "cell_type": "code",
   "execution_count": 66,
   "id": "debc6f14",
   "metadata": {},
   "outputs": [
    {
     "data": {
      "text/plain": [
       "<AxesSubplot:title={'center':'Rating'}, xlabel='rating', ylabel='Count'>"
      ]
     },
     "execution_count": 66,
     "metadata": {},
     "output_type": "execute_result"
    },
    {
     "data": {
      "image/png": "[encoded data removed]",
      "text/plain": [
       "<Figure size 800x300 with 1 Axes>"
      ]
     },
     "metadata": {},
     "output_type": "display_data"
    }
   ],
   "source": [
    "plt.figure(figsize=(8,3))\n",
    "plt.title(\"Rating\", fontsize =20 , color = 'b')\n",
    "y = nike_data['rating']\n",
    "sns.histplot(y)"
   ]
  },
  {
   "cell_type": "markdown",
   "id": "c3bc29e5",
   "metadata": {},
   "source": [
    "# T test"
   ]
  },
  {
   "cell_type": "code",
   "execution_count": 67,
   "id": "abcd4fbe",
   "metadata": {
    "scrolled": true
   },
   "outputs": [
    {
     "name": "stdout",
     "output_type": "stream",
     "text": [
      "T-statistic: -2.3683985760188384\n",
      "P-value: 0.018160921635013243\n",
      "There is a significant difference in sales between Nike shoes with a rating of 2.5 or lower and those with a rating higher than 2.5.\n"
     ]
    }
   ],
   "source": [
    "from scipy.stats import ttest_ind\n",
    "\n",
    "# Split the data into two groups based on rating \n",
    "low_rating = nike_data[nike_data['rating'] <= 2.5]['sale_price']\n",
    "high_rating = nike_data[nike_data['rating'] > 2.5]['sale_price']\n",
    "\n",
    "# Perform a two-sample t-test\n",
    "t_stat, p_val = ttest_ind(low_rating, high_rating)\n",
    "\n",
    "# Print the results\n",
    "print('T-statistic:', t_stat)\n",
    "print('P-value:', p_val)\n",
    "\n",
    "# Interpret the results\n",
    "if p_val < 0.05:\n",
    "    print('There is a significant difference in sales between Nike shoes with a rating of 2.5 or lower and those with a rating higher than 2.5.')\n",
    "else:\n",
    "    print('There is no significant difference in sales between Nike shoes with a rating of 2.5 or lower and those with a rating higher than 2.5.')"
   ]
  },
  {
   "cell_type": "markdown",
   "id": "bcc3892d",
   "metadata": {},
   "source": [
    "#### Null hypothesis is that lower rating has more sales \n",
    "#### Alternate hypothesis is contradicting the said statement and it states that lower rating has less sales.\n",
    "H0(null hypothesis):     μ <= 2.5 \n",
    "H1(alternate hypothesis):μ > 2.5\n",
    "area of significane(p) : 0.05 \n",
    "By calculation ,the p-value comes out to be less than 0.05 , hence which rejects the null hypothesis and also signifies that rating of less than 2.5 has lower sales.\n",
    "\n",
    "Recommendations :\n",
    "Based on the lower number of sales , the company should review their products and should provide some discounts.    \n",
    "\n",
    "\n",
    "\n",
    "*p-value is a statistical measurement used to validate a hypothesis against observed data."
   ]
  },
  {
   "cell_type": "code",
   "execution_count": 68,
   "id": "08957150",
   "metadata": {},
   "outputs": [
    {
     "data": {
      "text/plain": [
       "244"
      ]
     },
     "execution_count": 68,
     "metadata": {},
     "output_type": "execute_result"
    }
   ],
   "source": [
    "low_rating = nike_data[nike_data['rating'] <= 2.5]['sale_price']\n",
    "low_rating.count()"
   ]
  },
  {
   "cell_type": "code",
   "execution_count": 69,
   "id": "69f0e3a4",
   "metadata": {
    "scrolled": true
   },
   "outputs": [
    {
     "data": {
      "text/plain": [
       "399"
      ]
     },
     "execution_count": 69,
     "metadata": {},
     "output_type": "execute_result"
    }
   ],
   "source": [
    "high_rating = nike_data[nike_data['rating'] > 2.5]['sale_price']\n",
    "high_rating.count()"
   ]
  },
  {
   "cell_type": "code",
   "execution_count": 70,
   "id": "d55c8085",
   "metadata": {},
   "outputs": [
    {
     "data": {
      "text/plain": [
       "<AxesSubplot:xlabel='sale_price', ylabel='Count'>"
      ]
     },
     "execution_count": 70,
     "metadata": {},
     "output_type": "execute_result"
    },
    {
     "data": {
      "image/png": "[encoded data removed]",
      "text/plain": [
       "<Figure size 640x480 with 2 Axes>"
      ]
     },
     "metadata": {},
     "output_type": "display_data"
    }
   ],
   "source": [
    "low_rating = nike_data[nike_data['rating'] <= 2.5]['sale_price']\n",
    "high_rating = nike_data[nike_data['rating'] > 2.5]['sale_price']\n",
    "plt.subplot(2,2,1)\n",
    "sns.histplot(low_rating)\n",
    "plt.subplot(2,2,2)\n",
    "sns.histplot(high_rating)"
   ]
  },
  {
   "cell_type": "markdown",
   "id": "2ac976e7",
   "metadata": {},
   "source": [
    " Analysis : It can be seen from the result above that for rating less than or equal to 2.5 has lower sales. \n"
   ]
  },
  {
   "cell_type": "markdown",
   "id": "8759a5eb",
   "metadata": {},
   "source": [
    "We can look into the description "
   ]
  },
  {
   "cell_type": "code",
   "execution_count": 71,
   "id": "4a71204f",
   "metadata": {},
   "outputs": [
    {
     "data": {
      "text/plain": [
       "0      Let your shoe game shimmer in the Nike Air For...\n",
       "1      The legend lives on in the Nike Air Force 1 '0...\n",
       "2      Taking both height and craft to new levels, th...\n",
       "3      Designed for a woman's foot, the Nike Air Max ...\n",
       "4      Pass on the good vibes in the Nike Air Max Ver...\n",
       "                             ...                        \n",
       "629    The Nike Mercurial Vapor 13 Club MG wraps your...\n",
       "634    The soft upper of the Nike Mercurial Vapor 13 ...\n",
       "635    The Nike Tiempo Legend 8 Academy TF takes the ...\n",
       "639    The Nike Phantom Venom Club IC is engineered f...\n",
       "642    A mash-up of Pegasus' past, the Nike P-6000 SE...\n",
       "Name: description, Length: 244, dtype: object"
      ]
     },
     "execution_count": 71,
     "metadata": {},
     "output_type": "execute_result"
    }
   ],
   "source": [
    "nike_data[nike_data['rating'] <= 2.5]['description']"
   ]
  },
  {
   "cell_type": "markdown",
   "id": "3abe3d51",
   "metadata": {},
   "source": []
  },
  {
   "cell_type": "markdown",
   "id": "8caab6ee",
   "metadata": {},
   "source": [
    "# Limitations"
   ]
  },
  {
   "cell_type": "markdown",
   "id": "b122f632",
   "metadata": {},
   "source": [
    "One of limitations in the dataset was that the Listing price contained lots of null values which constricted in calculations. So had to replace the null values with median values which helped in calculations but lost its authenticity. "
   ]
  },
  {
   "cell_type": "markdown",
   "id": "7677d6a8",
   "metadata": {},
   "source": [
    "# Conclusion"
   ]
  },
  {
   "cell_type": "markdown",
   "id": "564f8538",
   "metadata": {},
   "source": [
    "It can be concluded that midrange sale prices had more sales. \n",
    "The distribution of shoe rating concludes that most customers are satisfied with the shoes they are buying. \n",
    "Before removing the outlier the max sales price was 36500 and after removing it is 20995. We can observe the difference it could create, if we had considered in out calculation. So, for better calculation it is removed.\n",
    "From the PDF it can concluded that most sales are in the region of 6000 to 12000.                                \n",
    "                                                                                                                                 From the hypothesis testing it can be concluded that there is a significant difference  in sales between Nike shoes with a rating of 2.5 or lower and those with a rating higher than 2.5\n"
   ]
  },
  {
   "cell_type": "markdown",
   "id": "a9520fe0",
   "metadata": {},
   "source": [
    "# References "
   ]
  },
  {
   "cell_type": "markdown",
   "id": "3d74e3c3",
   "metadata": {},
   "source": [
    "The dataset used in the project is taken from Kaggle and its name Nike shoe sale dataset.\n",
    "For the data understanding and for its cleaning different python libraries were used namely: Numpy, Pandas, Matplotlib, Seaborn and Scify.\n",
    "Numpy and Pandas were used for data reading and for numerical analysis.\n",
    "Matplotlib and Seaborn were mostly used together to provide an eye catching visuals for the reader. \n",
    "Now at the end there were some distribution and hypothesis which are scientific calculations. The Scify library comes handy for scientific.\n"
   ]
  },
  {
   "cell_type": "markdown",
   "id": "d7db3abb",
   "metadata": {},
   "source": [
    "# Acknowledgement"
   ]
  },
  {
   "cell_type": "markdown",
   "id": "851ead01",
   "metadata": {},
   "source": [
    "While working in this dataset my mind had to look for the smallest details possible in the dataset which actually trained my mind as a Data science students.\n",
    " This wouldn’t be possible without the guidance of my teacher where she acted as a guiding torch bearer and help me in the every difficulty I faced throughout this project. Thank you ma’am Shivangini for providing me the ways to approach for an problem with some slight hints which would assure the success.\n"
   ]
  },
  {
   "cell_type": "code",
   "execution_count": null,
   "id": "9a22637b",
   "metadata": {},
   "outputs": [],
   "source": []
  },
  {
   "cell_type": "code",
   "execution_count": null,
   "id": "3b42b64a",
   "metadata": {},
   "outputs": [],
   "source": []
  },
  {
   "cell_type": "code",
   "execution_count": 17,
   "id": "eaa1ac40",
   "metadata": {},
   "outputs": [
    {
     "name": "stderr",
     "output_type": "stream",
     "text": [
      "F:\\P\\lib\\site-packages\\seaborn\\_decorators.py:36: FutureWarning: Pass the following variables as keyword args: x, y. From version 0.12, the only valid positional argument will be `data`, and passing other arguments without an explicit keyword will result in an error or misinterpretation.\n",
      "  warnings.warn(\n"
     ]
    },
    {
     "data": {
      "image/png": "[encoded data removed]",
      "text/plain": [
       "<Figure size 500x300 with 1 Axes>"
      ]
     },
     "metadata": {},
     "output_type": "display_data"
    }
   ],
   "source": [
    "plt.figure(figsize=(5,3))\n",
    "x = nike_data.sale_price\n",
    "y = nike_data.listing_price\n",
    "plt.title(\"Scatter plot of sales price and listing price\")\n",
    "plt.xlabel(\"Sales price\")\n",
    "plt.ylabel(\"Listing price\")\n",
    "sns.regplot(x,y )\n",
    "plt.show()"
   ]
  },
  {
   "cell_type": "code",
   "execution_count": null,
   "id": "debc8681",
   "metadata": {},
   "outputs": [],
   "source": []
  }
 ],
 "metadata": {
  "kernelspec": {
   "display_name": "Python 3 (ipykernel)",
   "language": "python",
   "name": "python3"
  },
  "language_info": {
   "codemirror_mode": {
    "name": "ipython",
    "version": 3
   },
   "file_extension": ".py",
   "mimetype": "text/x-python",
   "name": "python",
   "nbconvert_exporter": "python",
   "pygments_lexer": "ipython3",
   "version": "3.9.13"
  }
 },
 "nbformat": 4,
 "nbformat_minor": 5
}
